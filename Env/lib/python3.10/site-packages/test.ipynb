{
 "cells": [
  {
   "cell_type": "code",
   "execution_count": 12,
   "metadata": {},
   "outputs": [],
   "source": [
    "# Imports (Always run this cell first after restarts)\n",
    "\n",
    "import ezdxf\n",
    "import numpy as np\n",
    "import matplotlib.pyplot as plt\n",
    "import re\n",
    "import math"
   ]
  },
  {
   "cell_type": "code",
   "execution_count": 2,
   "metadata": {},
   "outputs": [],
   "source": [
    "# Get Layers\n",
    "\n",
    "def get_layers_in_dxf(file_path):\n",
    "    layers = []\n",
    "    dwg = ezdxf.readfile(file_path)\n",
    "    for layer in dwg.layers:\n",
    "        layers.append(layer.dxf.name)\n",
    "    return layers\n",
    "\n",
    "def main():\n",
    "    file_path = \"/Users/user/Downloads/test.dxf\"  # Update with the path to your DXF file\n",
    "    layers = get_layers_in_dxf(file_path)\n",
    "    print(\"Layers in the DXF file:\")\n",
    "    for layer in layers:\n",
    "        print(layer)"
   ]
  },
  {
   "cell_type": "code",
   "execution_count": 3,
   "metadata": {},
   "outputs": [
    {
     "name": "stdout",
     "output_type": "stream",
     "text": [
      "Layers in the DXF file:\n",
      "0\n",
      "A-WALL\n",
      "A-DOOR\n",
      "A-GLAZ\n",
      "A-FLOR\n",
      "Q-CASE\n",
      "S-STRS\n",
      "S-STRS-IDEN\n",
      "C-PROP-LINE\n",
      "A-AREA\n",
      "A-WALL-PATT\n",
      "A-DETL-GENF\n",
      "S-STRS-ANNO\n",
      "A-DETL-THIN\n",
      "A-FLOR-OVHD\n",
      "A-AREA-IDEN\n",
      "A-ANNO-DIMS\n",
      "A-ANNO-DIMS-100\n",
      "Defpoints\n"
     ]
    }
   ],
   "source": [
    "main()"
   ]
  },
  {
   "cell_type": "code",
   "execution_count": 4,
   "metadata": {},
   "outputs": [],
   "source": [
    "# Count entities in layer\n",
    "\n",
    "def count_entities_in_layer(file_path, layer_name):\n",
    "    entity_count = 0\n",
    "    dwg = ezdxf.readfile(file_path)\n",
    "    modelspace = dwg.modelspace()\n",
    "    for entity in modelspace:\n",
    "        if entity.dxf.layer == layer_name:\n",
    "            entity_count += 1\n",
    "    return entity_count\n",
    "\n",
    "def main2():\n",
    "    file_path = \"/Users/user/Downloads/Sample1-lines.dxf\"  # Update with the path to your DXF file\n",
    "    layer_name = \"A-WALL\"  # Specify the layer name you want to count entities for\n",
    "    entity_count = count_entities_in_layer(file_path, layer_name)\n",
    "    print(f\"Number of entities in layer '{layer_name}': {entity_count}\")"
   ]
  },
  {
   "cell_type": "code",
   "execution_count": 5,
   "metadata": {},
   "outputs": [
    {
     "name": "stdout",
     "output_type": "stream",
     "text": [
      "Number of entities in layer 'A-WALL': 24\n"
     ]
    }
   ],
   "source": [
    "main2()"
   ]
  },
  {
   "cell_type": "code",
   "execution_count": 6,
   "metadata": {},
   "outputs": [],
   "source": [
    "\n",
    "def get_entity_types_in_layer(file_path, layer_name):\n",
    "    entity_types = set()\n",
    "    dwg = ezdxf.readfile(file_path)\n",
    "    modelspace = dwg.modelspace()\n",
    "    for entity in modelspace:\n",
    "        if entity.dxf.layer == layer_name:\n",
    "            entity_types.add(entity.dxftype())\n",
    "    return entity_types\n",
    "\n",
    "def main2_1():\n",
    "    file_path = \"/Users/user/Downloads/Sample1-lines.dxf\"  # Update with the path to your DXF file\n",
    "    layer_name = \"A-DOOR\"  # Specify the layer name you want to analyze\n",
    "    entity_types = get_entity_types_in_layer(file_path, layer_name)\n",
    "    print(f\"Entity types in layer '{layer_name}': {', '.join(entity_types)}\")"
   ]
  },
  {
   "cell_type": "code",
   "execution_count": 7,
   "metadata": {},
   "outputs": [
    {
     "name": "stdout",
     "output_type": "stream",
     "text": [
      "Entity types in layer 'A-DOOR': INSERT\n"
     ]
    }
   ],
   "source": [
    "main2_1()"
   ]
  },
  {
   "cell_type": "code",
   "execution_count": 8,
   "metadata": {},
   "outputs": [],
   "source": [
    "\n",
    "def get_entity_types_in_all_layers(file_path):\n",
    "    entity_types_per_layer = {}\n",
    "    dwg = ezdxf.readfile(file_path)\n",
    "    layers = dwg.layers\n",
    "    for layer in layers:\n",
    "        entity_types = set()\n",
    "        modelspace = dwg.modelspace()\n",
    "        for entity in modelspace:\n",
    "            if entity.dxf.layer == layer.dxf.name:\n",
    "                entity_types.add(entity.dxftype())\n",
    "        entity_types_per_layer[layer.dxf.name] = entity_types\n",
    "    return entity_types_per_layer\n",
    "\n",
    "def main2_2():\n",
    "    file_path = \"/Users/user/Downloads/test.dxf\"  # Update with the path to your DXF file\n",
    "    entity_types_per_layer = get_entity_types_in_all_layers(file_path)\n",
    "    for layer_name, entity_types in entity_types_per_layer.items():\n",
    "        print(f\"Entity types in layer '{layer_name}': {', '.join(entity_types)}\")"
   ]
  },
  {
   "cell_type": "code",
   "execution_count": 9,
   "metadata": {},
   "outputs": [
    {
     "name": "stdout",
     "output_type": "stream",
     "text": [
      "Entity types in layer '0': \n",
      "Entity types in layer 'A-WALL': HATCH, LINE\n",
      "Entity types in layer 'A-DOOR': INSERT\n",
      "Entity types in layer 'A-GLAZ': INSERT\n",
      "Entity types in layer 'A-FLOR': LINE\n",
      "Entity types in layer 'Q-CASE': INSERT\n",
      "Entity types in layer 'S-STRS': LINE\n",
      "Entity types in layer 'S-STRS-IDEN': MTEXT\n",
      "Entity types in layer 'C-PROP-LINE': INSERT\n",
      "Entity types in layer 'A-AREA': LINE\n",
      "Entity types in layer 'A-WALL-PATT': HATCH\n",
      "Entity types in layer 'A-DETL-GENF': \n",
      "Entity types in layer 'S-STRS-ANNO': LINE\n",
      "Entity types in layer 'A-DETL-THIN': LINE\n",
      "Entity types in layer 'A-FLOR-OVHD': LINE\n",
      "Entity types in layer 'A-AREA-IDEN': MTEXT\n",
      "Entity types in layer 'A-ANNO-DIMS': DIMENSION\n",
      "Entity types in layer 'A-ANNO-DIMS-100': \n",
      "Entity types in layer 'Defpoints': \n"
     ]
    }
   ],
   "source": [
    "main2_2()"
   ]
  },
  {
   "cell_type": "code",
   "execution_count": 10,
   "metadata": {},
   "outputs": [],
   "source": [
    "# Count type of entites in layer\n",
    "\n",
    "def count_solids_in_layer(file_path, layer_name):\n",
    "    entitytype_count = 0\n",
    "    dwg = ezdxf.readfile(file_path)\n",
    "    modelspace = dwg.modelspace()\n",
    "    for entity in modelspace:\n",
    "        if entity.dxftype() == 'INSERT' and entity.dxf.layer == layer_name:\n",
    "            entitytype_count += 1\n",
    "    return entitytype_count\n",
    "\n",
    "def main3():\n",
    "    file_path = \"/Users/user/Downloads/Sample1-lines.dxf\"  # Update with the path to your DXF file\n",
    "    layer_name = \"A-DOOR\"  # Specify the layer name you want to count SOLID entities for\n",
    "    entitytype_count = count_solids_in_layer(file_path, layer_name)\n",
    "    print(f\"Number of INSERT entities in layer '{layer_name}': {entitytype_count}\")"
   ]
  },
  {
   "cell_type": "code",
   "execution_count": 11,
   "metadata": {},
   "outputs": [
    {
     "name": "stdout",
     "output_type": "stream",
     "text": [
      "Number of INSERT entities in layer 'A-DOOR': 2\n"
     ]
    }
   ],
   "source": [
    "main3()"
   ]
  },
  {
   "cell_type": "code",
   "execution_count": 291,
   "metadata": {},
   "outputs": [],
   "source": [
    "\n",
    "def get_line_length(line):\n",
    "    return (line.dxf.end - line.dxf.start).magnitude\n",
    "\n",
    "def separate_lines(lines, threshold):\n",
    "    return [line for line in lines if get_line_length(line) > threshold]\n",
    "\n",
    "def group_Vlines(lines, distance_threshold):\n",
    "    # Sort the lines by length from longest to shortest\n",
    "    lines = sorted(lines, key=lambda line: abs(line.dxf.start[1] - line.dxf.end[1]), reverse=True)\n",
    "    groups = []\n",
    "    \n",
    "    while len(lines) > 0:\n",
    "        current_line = lines.pop(0)\n",
    "        span_start = min(current_line.dxf.start[1], current_line.dxf.end[1])\n",
    "        span_end = max(current_line.dxf.start[1], current_line.dxf.end[1])\n",
    "        group = [current_line]\n",
    "        remaining_lines = []\n",
    "        for line in lines:\n",
    "            if (min(line.dxf.start[1], line.dxf.end[1]) >= span_start and max(line.dxf.start[1], line.dxf.end[1]) <= span_end) or \\\n",
    "               (min(line.dxf.start[1], line.dxf.end[1]) <= span_start and max(line.dxf.start[1], line.dxf.end[1]) >= span_start) or \\\n",
    "               (min(line.dxf.start[1], line.dxf.end[1]) <= span_end and max(line.dxf.start[1], line.dxf.end[1]) >= span_end):\n",
    "                if 50 < abs(current_line.dxf.start[0] - line.dxf.start[0]) < distance_threshold:\n",
    "                    group.append(line)\n",
    "                else:\n",
    "                    remaining_lines.append(line)\n",
    "            else:\n",
    "                remaining_lines.append(line)\n",
    "        groups.append(group)\n",
    "        \n",
    "        # Check if the group has only one line\n",
    "        if len(group) == 1:\n",
    "            single_line = group[0]\n",
    "            for line in lines:\n",
    "                if 50 < abs(single_line.dxf.start[0] - line.dxf.start[0]) < distance_threshold:\n",
    "                    group.append(line)\n",
    "                    remaining_lines.remove(line)  # Remove line from remaining lines\n",
    "            groups.pop()  # Remove the single-line group\n",
    "        \n",
    "        lines = remaining_lines\n",
    "    \n",
    "    return groups\n",
    "\n",
    "def group_Hlines(lines, distance_threshold):\n",
    "    # Sort the lines by length from longest to shortest\n",
    "    lines = sorted(lines, key=lambda line: abs(line.dxf.start[0] - line.dxf.end[0]), reverse=True)\n",
    "    groups = []\n",
    "    \n",
    "    while len(lines) > 0:\n",
    "        current_line = lines.pop(0)\n",
    "        span_start = min(current_line.dxf.start[0], current_line.dxf.end[0])\n",
    "        span_end = max(current_line.dxf.start[0], current_line.dxf.end[0])\n",
    "        group = [current_line]\n",
    "        remaining_lines = []\n",
    "        for line in lines:\n",
    "            if (min(line.dxf.start[0], line.dxf.end[0]) >= span_start and max(line.dxf.start[0], line.dxf.end[0]) <= span_end) or \\\n",
    "               (min(line.dxf.start[0], line.dxf.end[0]) <= span_start and max(line.dxf.start[0], line.dxf.end[0]) >= span_start) or \\\n",
    "               (min(line.dxf.start[0], line.dxf.end[0]) <= span_end and max(line.dxf.start[0], line.dxf.end[0]) >= span_end):\n",
    "                if 50 < abs(current_line.dxf.start[1] - line.dxf.start[1]) < distance_threshold:\n",
    "                    group.append(line)\n",
    "                else:\n",
    "                    remaining_lines.append(line)\n",
    "            else:\n",
    "                remaining_lines.append(line)\n",
    "        groups.append(group)\n",
    "        \n",
    "        # Check if the group has only one line\n",
    "        if len(group) == 1:\n",
    "            single_line = group[0]\n",
    "            for line in lines:\n",
    "                if 50 < abs(single_line.dxf.start[1] - line.dxf.start[1]) < distance_threshold:\n",
    "                    group.append(line)\n",
    "                    remaining_lines.remove(line)  # Remove line from remaining lines\n",
    "            groups.pop()  # Remove the single-line group\n",
    "        \n",
    "        lines = remaining_lines\n",
    "    \n",
    "    return groups\n",
    "\n",
    "def find_walls(file_path, layer_name, threshold):\n",
    "    horizontal_walls = []\n",
    "    vertical_walls = []\n",
    "    dwg = ezdxf.readfile(file_path)\n",
    "    modelspace = dwg.modelspace()\n",
    "\n",
    "    # Get all lines in the specified layer\n",
    "    lines = list(modelspace.query(f'LINE[layer==\"{layer_name}\"]'))\n",
    "\n",
    "    # Separate lines into horizontal and vertical\n",
    "    horizontal_lines = [line for line in lines if abs(line.dxf.start[0] - line.dxf.end[0]) > abs(line.dxf.start[1] - line.dxf.end[1])]\n",
    "    vertical_lines = [line for line in lines if line not in horizontal_lines]\n",
    "\n",
    "    print(\"Total number of lines:\", len(lines))\n",
    "    print(\"\\nNumber of horizontal lines:\", len(horizontal_lines))\n",
    "    print(\"Number of vertical lines:\", len(vertical_lines))\n",
    "\n",
    "    # Discard lines shorter than threshold\n",
    "    horizontal_lines = separate_lines(horizontal_lines, threshold)\n",
    "    vertical_lines = separate_lines(vertical_lines, threshold)\n",
    "\n",
    "    print(\"\\nNumber of horizontal lines after filtering:\", len(horizontal_lines))\n",
    "    print(\"Number of vertical lines after filtering:\", len(vertical_lines))\n",
    "\n",
    "    # Group horizontal lines\n",
    "    horizontal_groups = group_Hlines(horizontal_lines, threshold)\n",
    "\n",
    "    print(\"\\nNumber of horizontal groups:\", len(horizontal_groups))\n",
    "    for i, group in enumerate(horizontal_groups, start=1):\n",
    "        print(f\"Horizontal Group {i}: {len(group)} lines\")\n",
    "\n",
    "    # Group vertical lines\n",
    "    vertical_groups = group_Vlines(vertical_lines, threshold)\n",
    "\n",
    "    print(\"\\nNumber of vertical groups:\", len(vertical_groups))\n",
    "    for i, group in enumerate(vertical_groups, start=1):\n",
    "        print(f\"Vertical Group {i}: {len(group)} lines\")\n",
    "\n",
    "    # Pick the longest line from each group to represent a wall\n",
    "    for group in horizontal_groups:\n",
    "        horizontal_walls.append(max(group, key=get_line_length))\n",
    "\n",
    "    for group in vertical_groups:\n",
    "        vertical_walls.append(max(group, key=get_line_length))\n",
    "\n",
    "    return horizontal_walls, vertical_walls\n",
    "\n",
    "def main4(file_path, layer_name, threshold):\n",
    "    # file_path = \"/Users/user/Downloads/Sample1-lines.dxf\"\n",
    "    # layer_name = \"A-WALL\"\n",
    "    # threshold = 250  # Threshold for discarding short lines\n",
    "\n",
    "    # Find horizontal and vertical walls\n",
    "    horizontal_walls, vertical_walls = find_walls(file_path, layer_name, threshold)\n",
    "\n",
    "    # Output horizontal walls\n",
    "    print(\"\\nHorizontal Walls:\")\n",
    "    for i, wall in enumerate(horizontal_walls, start=1):\n",
    "        print(f\"Wall {i}: Length = {get_line_length(wall):.2f}mm\")\n",
    "\n",
    "    # Output vertical walls\n",
    "    print(\"\\nVertical Walls:\")\n",
    "    for i, wall in enumerate(vertical_walls, start=1):\n",
    "        print(f\"Wall {i}: Length = {get_line_length(wall):.2f}mm\")\n",
    "\n",
    "    # Output total number of walls\n",
    "    total_walls = len(horizontal_walls) + len(vertical_walls)\n",
    "    print(f\"\\nTotal number of walls: {total_walls}\")"
   ]
  },
  {
   "cell_type": "code",
   "execution_count": 292,
   "metadata": {},
   "outputs": [
    {
     "name": "stdout",
     "output_type": "stream",
     "text": [
      "Total number of lines: 24\n",
      "\n",
      "Number of horizontal lines: 12\n",
      "Number of vertical lines: 12\n",
      "\n",
      "Number of horizontal lines after filtering: 8\n",
      "Number of vertical lines after filtering: 12\n",
      "\n",
      "Number of horizontal groups: 2\n",
      "Horizontal Group 1: 4 lines\n",
      "Horizontal Group 2: 4 lines\n",
      "\n",
      "Number of vertical groups: 6\n",
      "Vertical Group 1: 2 lines\n",
      "Vertical Group 2: 2 lines\n",
      "Vertical Group 3: 2 lines\n",
      "Vertical Group 4: 2 lines\n",
      "Vertical Group 5: 2 lines\n",
      "Vertical Group 6: 2 lines\n",
      "\n",
      "Horizontal Walls:\n",
      "Wall 1: Length = 9300.00mm\n",
      "Wall 2: Length = 9300.00mm\n",
      "\n",
      "Vertical Walls:\n",
      "Wall 1: Length = 4000.00mm\n",
      "Wall 2: Length = 4000.00mm\n",
      "Wall 3: Length = 1385.00mm\n",
      "Wall 4: Length = 1342.50mm\n",
      "Wall 5: Length = 1342.50mm\n",
      "Wall 6: Length = 1300.00mm\n",
      "\n",
      "Total number of walls: 8\n"
     ]
    }
   ],
   "source": [
    "main4(\"/Users/user/Downloads/Sample1-lines.dxf\",\"A-WALL\",250)"
   ]
  },
  {
   "cell_type": "code",
   "execution_count": 49,
   "metadata": {},
   "outputs": [],
   "source": [
    "# Draw the dxf\n",
    "\n",
    "def draw_layer_as_png(file_path, layer_name, output_png):\n",
    "    # Read the DXF file\n",
    "    doc = ezdxf.readfile(file_path)\n",
    "\n",
    "    # Extract entities in the specified layer\n",
    "    entities = doc.modelspace().query(f'LINE[layer==\"{layer_name}\"]')\n",
    "\n",
    "    # Extract coordinates from entities\n",
    "    coordinates = []\n",
    "    for entity in entities:\n",
    "        start_point = (entity.dxf.start[0], entity.dxf.start[1])\n",
    "        end_point = (entity.dxf.end[0], entity.dxf.end[1])\n",
    "        coordinates.append({'start_point': start_point, 'end_point': end_point})\n",
    "\n",
    "    # Plot the entities\n",
    "    fig, ax = plt.subplots()\n",
    "    for coord in coordinates:\n",
    "        start_point = coord['start_point']\n",
    "        end_point = coord['end_point']\n",
    "        ax.plot([start_point[0], end_point[0]], [start_point[1], end_point[1]], color='black')\n",
    "\n",
    "    # Adjust plot settings\n",
    "    ax.set_aspect('equal', adjustable='box')\n",
    "    ax.axis('off')  # Hide axis\n",
    "\n",
    "    # Save plot as PNG image\n",
    "    plt.savefig(output_png, bbox_inches='tight', pad_inches=0)\n",
    "    plt.close()  # Close the plot to release resources"
   ]
  },
  {
   "cell_type": "code",
   "execution_count": 286,
   "metadata": {},
   "outputs": [],
   "source": [
    "draw_layer_as_png(\"/Users/user/Downloads/sample-4.dxf\", 'A-WALL', 'output_png')"
   ]
  },
  {
   "cell_type": "code",
   "execution_count": 37,
   "metadata": {},
   "outputs": [],
   "source": [
    "# def get_horizontal_and_vertical_lengths(file_path, layer_name):\n",
    "#     horizontal_lengths = []\n",
    "#     vertical_lengths = []\n",
    "    \n",
    "#     # Read the DXF file\n",
    "#     doc = ezdxf.readfile(file_path)\n",
    "\n",
    "#     # Extract entities in the specified layer\n",
    "#     entities = doc.modelspace().query(f'LINE[layer==\"{layer_name}\"]')\n",
    "\n",
    "#     # Extract lengths from entities\n",
    "#     for entity in entities:\n",
    "#         start_point = (entity.dxf.start[0], entity.dxf.start[1])\n",
    "#         end_point = (entity.dxf.end[0], entity.dxf.end[1])\n",
    "#         length = calculate_distance(start_point, end_point)\n",
    "        \n",
    "#         if start_point[0] == end_point[0]:  # Vertical line\n",
    "#             vertical_lengths.append(length)\n",
    "#         else:  # Horizontal line\n",
    "#             horizontal_lengths.append(length)\n",
    "\n",
    "#     # Sort the lengths lists from longest to shortest\n",
    "#     horizontal_lengths.sort(reverse=True)\n",
    "#     vertical_lengths.sort(reverse=True)\n",
    "\n",
    "#     return horizontal_lengths, vertical_lengths"
   ]
  },
  {
   "cell_type": "code",
   "execution_count": null,
   "metadata": {},
   "outputs": [],
   "source": [
    "# get_horizontal_and_vertical_lengths(\"/Users/user/Downloads/new-sample.dxf\", 'A-WALL')"
   ]
  },
  {
   "cell_type": "code",
   "execution_count": 140,
   "metadata": {},
   "outputs": [],
   "source": [
    "\n",
    "def plot_wall_door_layers(file_path):\n",
    "    # Read the DXF file\n",
    "    dwg = ezdxf.readfile(file_path)\n",
    "\n",
    "    layers = get_layers_in_dxf(file_path)\n",
    "\n",
    "    # Find layers containing 'WALL' or 'DOOR' in their names using regex\n",
    "    wall_pattern = re.compile(r'.*WALL$', re.IGNORECASE)\n",
    "    door_pattern = re.compile(r'.*DOOR$', re.IGNORECASE)\n",
    "    wall_layers = [layer for layer in layers if re.search(wall_pattern, layer)]\n",
    "    door_layers = [layer for layer in layers if re.search(door_pattern, layer)]\n",
    "\n",
    "    # Create plot\n",
    "    fig, ax = plt.subplots()\n",
    "\n",
    "    # Plot entities for WALL layers\n",
    "    for layer in wall_layers:\n",
    "        wall_entities = [entity for entity in dwg.modelspace() if entity.dxf.layer == layer]\n",
    "        for entity in wall_entities:\n",
    "            if entity.dxftype() == 'LINE':\n",
    "                start = (entity.dxf.start[0], entity.dxf.start[1])\n",
    "                end = (entity.dxf.end[0], entity.dxf.end[1])\n",
    "                ax.plot([start[0], end[0]], [start[1], end[1]], color='black', alpha=1.0, label='WALL')\n",
    "            elif entity.dxftype() == 'POLYLINE':\n",
    "                vertices = [(vertex[0], vertex[1]) for vertex in entity.points()]\n",
    "                x, y = zip(*vertices)\n",
    "                ax.plot(x, y, color='black', alpha=1.0, label='WALL')\n",
    "            elif entity.dxftype() == 'ARC':\n",
    "                center = (entity.dxf.center[0], entity.dxf.center[1])\n",
    "                radius = entity.dxf.radius\n",
    "                start_angle = entity.dxf.start_angle\n",
    "                end_angle = entity.dxf.end_angle\n",
    "                arc = plt.Arc(center, radius*2, radius*2, theta1=start_angle, theta2=end_angle, color='black', alpha=1.0)\n",
    "                ax.add_patch(arc)\n",
    "            elif entity.dxftype() == 'CIRCLE':\n",
    "                center = (entity.dxf.center[0], entity.dxf.center[1])\n",
    "                radius = entity.dxf.radius\n",
    "                circle = plt.Circle(center, radius, color='black', alpha=1.0)\n",
    "                ax.add_patch(circle)\n",
    "\n",
    "    # Plot entities for DOOR layers\n",
    "    for layer in door_layers:\n",
    "        door_entities = [entity for entity in dwg.modelspace() if entity.dxf.layer == layer]\n",
    "        for entity in door_entities:\n",
    "            if entity.dxftype() == 'INSERT':\n",
    "                ax.text(entity.dxf.insert[0], entity.dxf.insert[1], 'Door', fontsize=6.5, color='blue', ha='center', va='center')\n",
    "\n",
    "    # Customize plot appearance\n",
    "    ax.set_aspect('equal', adjustable='box')\n",
    "    ax.axis('off')\n",
    "    plt.show()\n"
   ]
  },
  {
   "cell_type": "code",
   "execution_count": 290,
   "metadata": {},
   "outputs": [
    {
     "data": {
      "image/png": "[encoded data removed]",
      "text/plain": [
       "<Figure size 640x480 with 1 Axes>"
      ]
     },
     "metadata": {},
     "output_type": "display_data"
    }
   ],
   "source": [
    "plot_wall_door_layers(\"/Users/user/Downloads/Sample1-lines.dxf\")"
   ]
  },
  {
   "cell_type": "code",
   "execution_count": 288,
   "metadata": {},
   "outputs": [],
   "source": [
    "\n",
    "def calculate_nodes(dxf_path, layer):\n",
    "    # Store all coordinates of vertices in the DXF file\n",
    "    vertices = []\n",
    "    dwg = ezdxf.readfile(dxf_path)\n",
    "    # Get all lines in the specified layer\n",
    "    for entity in dwg.entities:\n",
    "        if entity.dxftype() == 'LINE' and entity.dxf.layer == layer:\n",
    "            start_x = round(entity.dxf.start[0], 2)\n",
    "            start_y = round(entity.dxf.start[1], 2)\n",
    "            end_x = round(entity.dxf.end[0], 2)\n",
    "            end_y = round(entity.dxf.end[1], 2)\n",
    "            vertices.append((start_x, start_y))\n",
    "            vertices.append((end_x, end_y))\n",
    "\n",
    "    vertices = set(vertices)\n",
    "\n",
    "    squares = []\n",
    "    squares_vertices = []\n",
    "\n",
    "    # Iterate over all combinations of four vertices\n",
    "    for vertex1 in vertices:\n",
    "        for vertex2 in vertices:\n",
    "            if vertex1 != vertex2:\n",
    "                x1, y1 = vertex1\n",
    "                x2, y2 = vertex2\n",
    "                # Check if the difference in x-coordinates is equal to the difference in y-coordinates\n",
    "                if abs(x1 - x2) == abs(y1 - y2):\n",
    "                    # Check if the other two vertices of the potential square are present in vertices\n",
    "                    if (x1, y2) in vertices and (x2, y1) in vertices:\n",
    "                        # Append the vertices of the square to the squares list\n",
    "                        squares_vertices.append(vertex1)\n",
    "                        squares_vertices.append(vertex2)\n",
    "                        squares_vertices.append((x1, y2))\n",
    "                        squares_vertices.append((x2, y1))\n",
    "                        # Append the square itself to the squares list\n",
    "                        squares.append(squares_vertices)\n",
    "                        # Remove the vertices of the square from the vertices list\n",
    "                        for square_vertex in squares_vertices:\n",
    "                            vertices.remove(square_vertex)\n",
    "                        # Clear the squares_vertices list for the next square\n",
    "                        squares_vertices = []\n",
    "\n",
    "    nodes = 0\n",
    "    # Create a copy of vertices to iterate over\n",
    "    for current_vertex in vertices.copy():\n",
    "        x1, y1 = current_vertex\n",
    "        for vertex in vertices.copy():\n",
    "            if vertex == current_vertex:\n",
    "                continue\n",
    "            x2, y2 = vertex\n",
    "            distance = math.sqrt((x2 - x1) ** 2 + (y2 - y1) ** 2)\n",
    "            if distance < 320:\n",
    "                angle = math.atan2(y2 - y1, x2 - x1)\n",
    "                angle_degrees = math.degrees(angle) % 360\n",
    "                if angle_degrees in (45, 135, 225, 315):\n",
    "                    vertices.remove(vertex)\n",
    "                    vertices.remove(current_vertex)\n",
    "                    nodes += 1\n",
    "                    break  # Exit inner loop if a node is found\n",
    "\n",
    "    return nodes"
   ]
  },
  {
   "cell_type": "code",
   "execution_count": 289,
   "metadata": {},
   "outputs": [
    {
     "data": {
      "text/plain": [
       "6"
      ]
     },
     "execution_count": 289,
     "metadata": {},
     "output_type": "execute_result"
    }
   ],
   "source": [
    "calculate_nodes(\"/Users/user/Downloads/sample-4.dxf\",'A-WALL')"
   ]
  },
  {
   "cell_type": "code",
   "execution_count": 272,
   "metadata": {},
   "outputs": [
    {
     "data": {
      "text/plain": [
       "{(-16800.95, 1240.56),\n",
       " (-16800.95, 13040.56),\n",
       " (-16600.95, 1440.56),\n",
       " (-16600.95, 4440.56),\n",
       " (-16600.95, 4640.56),\n",
       " (-16600.95, 9640.56),\n",
       " (-16600.95, 9840.56),\n",
       " (-16600.95, 12840.56),\n",
       " (-14915.95, 4440.56),\n",
       " (-14915.95, 4640.56),\n",
       " (-14915.95, 9640.56),\n",
       " (-14915.95, 9840.56),\n",
       " (-14000.95, 4440.56),\n",
       " (-14000.95, 4640.56),\n",
       " (-14000.95, 9640.56),\n",
       " (-14000.95, 9840.56),\n",
       " (-13000.95, 1440.56),\n",
       " (-13000.95, 4440.56),\n",
       " (-13000.95, 9840.56),\n",
       " (-13000.95, 12840.56),\n",
       " (-12800.95, 1240.56),\n",
       " (-12800.95, 4440.56),\n",
       " (-12800.95, 9840.56),\n",
       " (-12800.95, 13040.56),\n",
       " (-7500.95, 4640.56),\n",
       " (-7500.95, 6725.56),\n",
       " (-7500.95, 7640.56),\n",
       " (-7500.95, 9640.56),\n",
       " (-7300.95, 4440.56),\n",
       " (-7300.95, 6725.56),\n",
       " (-7300.95, 7640.56),\n",
       " (-7300.95, 9840.56)}"
      ]
     },
     "execution_count": 272,
     "metadata": {},
     "output_type": "execute_result"
    }
   ],
   "source": [
    "vertices = []\n",
    "dwg = ezdxf.readfile(\"/Users/user/Downloads/sample-4.dxf\")\n",
    "\n",
    "# Get all lines in the specified layer\n",
    "for entity in dwg.entities:\n",
    "    if entity.dxftype() == 'LINE' and entity.dxf.layer == 'A-WALL':\n",
    "        start_x = round(entity.dxf.start[0], 2)\n",
    "        start_y = round(entity.dxf.start[1], 2)\n",
    "        end_x = round(entity.dxf.end[0], 2)\n",
    "        end_y = round(entity.dxf.end[1], 2)\n",
    "        vertices.append((start_x, start_y))\n",
    "        vertices.append((end_x, end_y))\n",
    "\n",
    "vertices=set(vertices)\n",
    "vertices"
   ]
  },
  {
   "cell_type": "code",
   "execution_count": 282,
   "metadata": {},
   "outputs": [
    {
     "data": {
      "image/png": "[encoded data removed]",
      "text/plain": [
       "<Figure size 640x480 with 2 Axes>"
      ]
     },
     "metadata": {},
     "output_type": "display_data"
    }
   ],
   "source": [
    "\n",
    "# Given data\n",
    "points = {(-16800.95, 1240.56),\n",
    " (-16800.95, 13040.56),\n",
    " (-16600.95, 1440.56),\n",
    " (-16600.95, 4440.56),\n",
    " (-16600.95, 4640.56),\n",
    " (-16600.95, 9640.56),\n",
    " (-16600.95, 9840.56),\n",
    " (-16600.95, 12840.56),\n",
    " (-14915.95, 4440.56),\n",
    " (-14915.95, 4640.56),\n",
    " (-14915.95, 9640.56),\n",
    " (-14915.95, 9840.56),\n",
    " (-14000.95, 4440.56),\n",
    " (-14000.95, 4640.56),\n",
    " (-14000.95, 9640.56),\n",
    " (-14000.95, 9840.56),\n",
    " (-13000.95, 1440.56),\n",
    " (-13000.95, 4440.56),\n",
    " (-13000.95, 9840.56),\n",
    " (-13000.95, 12840.56),\n",
    " (-12800.95, 1240.56),\n",
    " (-12800.95, 4440.56),\n",
    " (-12800.95, 9840.56),\n",
    " (-12800.95, 13040.56),\n",
    " (-7500.95, 4640.56),\n",
    " (-7500.95, 6725.56),\n",
    " (-7500.95, 7640.56),\n",
    " (-7500.95, 9640.56),\n",
    " (-7300.95, 4440.56),\n",
    " (-7300.95, 6725.56),\n",
    " (-7300.95, 7640.56),\n",
    " (-7300.95, 9840.56)}\n",
    "\n",
    "# Separate x and y coordinates\n",
    "x_coords = [point[0] for point in points]\n",
    "y_coords = [point[1] for point in points]\n",
    "\n",
    "# Assign different colors to each point\n",
    "colors = range(len(points))\n",
    "\n",
    "# Plot the points with different colors\n",
    "for point in points:\n",
    "    plt.scatter(x_coords, y_coords, c=colors, cmap='hsv')\n",
    "\n",
    "# Add labels and title\n",
    "plt.xlabel('X Coordinate')\n",
    "plt.ylabel('Y Coordinate')\n",
    "plt.title('Plan vertices')\n",
    "\n",
    "# Show plot\n",
    "plt.grid(True)\n",
    "plt.gca().set_aspect('equal', adjustable='box')\n",
    "plt.colorbar(label='Point Index')\n",
    "plt.show()"
   ]
  },
  {
   "cell_type": "code",
   "execution_count": 274,
   "metadata": {},
   "outputs": [
    {
     "data": {
      "text/plain": [
       "32"
      ]
     },
     "execution_count": 274,
     "metadata": {},
     "output_type": "execute_result"
    }
   ],
   "source": [
    "len(vertices)"
   ]
  },
  {
   "cell_type": "code",
   "execution_count": 293,
   "metadata": {},
   "outputs": [],
   "source": [
    "def get_walls_length(file_path,layer_name,threshold):\n",
    "\n",
    "    # Find horizontal and vertical walls\n",
    "    horizontal_walls, vertical_walls = find_walls(file_path, layer_name, threshold)\n",
    "    \n",
    "    horizontal_wall_length = 0\n",
    "    for wall in horizontal_walls:\n",
    "        horizontal_wall_length+=get_line_length(wall)\n",
    "    \n",
    "    vertical_wall_length = 0\n",
    "    for wall in vertical_walls:\n",
    "        vertical_wall_length+=get_line_length(wall)\n",
    "\n",
    "    total_length = horizontal_wall_length+vertical_wall_length\n",
    "\n",
    "    return total_length"
   ]
  },
  {
   "cell_type": "code",
   "execution_count": 297,
   "metadata": {},
   "outputs": [
    {
     "name": "stdout",
     "output_type": "stream",
     "text": [
      "Total number of lines: 24\n",
      "\n",
      "Number of horizontal lines: 12\n",
      "Number of vertical lines: 12\n",
      "\n",
      "Number of horizontal lines after filtering: 8\n",
      "Number of vertical lines after filtering: 12\n",
      "\n",
      "Number of horizontal groups: 2\n",
      "Horizontal Group 1: 4 lines\n",
      "Horizontal Group 2: 4 lines\n",
      "\n",
      "Number of vertical groups: 6\n",
      "Vertical Group 1: 2 lines\n",
      "Vertical Group 2: 2 lines\n",
      "Vertical Group 3: 2 lines\n",
      "Vertical Group 4: 2 lines\n",
      "Vertical Group 5: 2 lines\n",
      "Vertical Group 6: 2 lines\n"
     ]
    },
    {
     "data": {
      "text/plain": [
       "31970.0"
      ]
     },
     "execution_count": 297,
     "metadata": {},
     "output_type": "execute_result"
    }
   ],
   "source": [
    "get_walls_length(\"/Users/user/Downloads/Sample1-lines.dxf\",'A-WALL',320)"
   ]
  }
 ],
 "metadata": {
  "kernelspec": {
   "display_name": "base",
   "language": "python",
   "name": "python3"
  },
  "language_info": {
   "codemirror_mode": {
    "name": "ipython",
    "version": 3
   },
   "file_extension": ".py",
   "mimetype": "text/x-python",
   "name": "python",
   "nbconvert_exporter": "python",
   "pygments_lexer": "ipython3",
   "version": "3.10.9"
  }
 },
 "nbformat": 4,
 "nbformat_minor": 2
}
